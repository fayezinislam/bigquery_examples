{
  "nbformat": 4,
  "nbformat_minor": 0,
  "metadata": {
    "colab": {
      "cell_execution_strategy": "setup",
      "provenance": [],
      "name": "BigQuery Streaming CDC Merge Tutorial"
    },
    "kernelspec": {
      "name": "python3",
      "display_name": "Python 3"
    },
    "language_info": {
      "name": "python"
    }
  },
  "cells": [
    {
      "cell_type": "markdown",
      "source": [
        "# BigQuery Streaming CDC Merge Tutorial"
      ],
      "metadata": {
        "id": "M88bSXEJbL1K"
      }
    },
    {
      "cell_type": "markdown",
      "source": [
        "**License**"
      ],
      "metadata": {
        "id": "06eEI9SgO0nW"
      }
    },
    {
      "cell_type": "code",
      "source": [
        "# Copyright 2025 Google LLC\n",
        "#\n",
        "# Licensed under the Apache License, Version 2.0 (the \"License\");\n",
        "# you may not use this file except in compliance with the License.\n",
        "# You may obtain a copy of the License at\n",
        "#\n",
        "#     https://www.apache.org/licenses/LICENSE-2.0\n",
        "#\n",
        "# Unless required by applicable law or agreed to in writing, software\n",
        "# distributed under the License is distributed on an \"AS IS\" BASIS,\n",
        "# WITHOUT WARRANTIES OR CONDITIONS OF ANY KIND, either express or implied.\n",
        "# See the License for the specific language governing permissions and\n",
        "# limitations under the License."
      ],
      "metadata": {
        "id": "dDOPdByfOu2e"
      },
      "execution_count": null,
      "outputs": []
    },
    {
      "cell_type": "markdown",
      "source": [
        "**Create a BigQuery dataset**: This dataset will hold your tables."
      ],
      "metadata": {
        "id": "bmVO4AZGbb2V"
      }
    },
    {
      "cell_type": "code",
      "source": [
        "!bq mk --location=US my_cdc_dataset"
      ],
      "metadata": {
        "id": "zGZq6XljbgTZ"
      },
      "execution_count": null,
      "outputs": []
    },
    {
      "cell_type": "markdown",
      "source": [
        "**Create a staging table**: This table will receive the raw CDC data from Pub/Sub. Define the schema according to your CDC data format. For example:"
      ],
      "metadata": {
        "id": "bHs9MWVdbmVm"
      }
    },
    {
      "cell_type": "code",
      "source": [
        "%%bigquery\n",
        "CREATE OR REPLACE TABLE my_cdc_dataset.staging_table (\n",
        "    id STRING,\n",
        "    name STRING,\n",
        "    value STRING,\n",
        "    _metadata_timestamp TIMESTAMP,  -- Timestamp from Pub/Sub\n",
        "    _event_timestamp TIMESTAMP,      -- Timestamp of the event\n",
        "    _op STRING                     -- Operation: I, U, D\n",
        ")\n",
        "PARTITION BY _event_timestamp"
      ],
      "metadata": {
        "id": "TgIMjWMscTfU"
      },
      "execution_count": null,
      "outputs": []
    },
    {
      "cell_type": "markdown",
      "source": [
        "**Create a curated table**: This table will hold the merged and cleaned data. It should have a similar schema to the staging table, but without the metadata columns."
      ],
      "metadata": {
        "id": "ilEFkFkIcm2p"
      }
    },
    {
      "cell_type": "code",
      "source": [
        "%%bigquery\n",
        "CREATE OR REPLACE TABLE my_cdc_dataset.curated_table (\n",
        "    id STRING,\n",
        "    name STRING,\n",
        "    value STRING,\n",
        "    event_timestamp TIMESTAMP\n",
        ");"
      ],
      "metadata": {
        "id": "H3fS8eBacldf"
      },
      "execution_count": null,
      "outputs": []
    },
    {
      "cell_type": "markdown",
      "source": [
        "**Insert sample records**: Add sample records with insert, update and delete operations"
      ],
      "metadata": {
        "id": "mrr34ycedfBc"
      }
    },
    {
      "cell_type": "code",
      "source": [
        "%%bigquery\n",
        "-- Inserts\n",
        "INSERT INTO my_cdc_dataset.staging_table (id, name, value, _metadata_timestamp, _event_timestamp, _op) VALUES ('1', 'Product A', '10.00', TIMESTAMP_SUB(CURRENT_TIMESTAMP(), INTERVAL 10 MINUTE), TIMESTAMP_SUB(CURRENT_TIMESTAMP(), INTERVAL 10 MINUTE), 'I');\n",
        "INSERT INTO my_cdc_dataset.staging_table (id, name, value, _metadata_timestamp, _event_timestamp, _op) VALUES ('2', 'Product B', '20.00', TIMESTAMP_SUB(CURRENT_TIMESTAMP(), INTERVAL 9 MINUTE), TIMESTAMP_SUB(CURRENT_TIMESTAMP(), INTERVAL 9 MINUTE), 'I');\n",
        "INSERT INTO my_cdc_dataset.staging_table (id, name, value, _metadata_timestamp, _event_timestamp, _op) VALUES ('3', 'Product C', '30.00', TIMESTAMP_SUB(CURRENT_TIMESTAMP(), INTERVAL 8 MINUTE), TIMESTAMP_SUB(CURRENT_TIMESTAMP(), INTERVAL 8 MINUTE), 'I');\n",
        "INSERT INTO my_cdc_dataset.staging_table (id, name, value, _metadata_timestamp, _event_timestamp, _op) VALUES ('4', 'Product D', '40.00', TIMESTAMP_SUB(CURRENT_TIMESTAMP(), INTERVAL 7 MINUTE), TIMESTAMP_SUB(CURRENT_TIMESTAMP(), INTERVAL 7 MINUTE), 'I');\n",
        "INSERT INTO my_cdc_dataset.staging_table (id, name, value, _metadata_timestamp, _event_timestamp, _op) VALUES ('5', 'Product E', '50.00', TIMESTAMP_SUB(CURRENT_TIMESTAMP(), INTERVAL 6 MINUTE), TIMESTAMP_SUB(CURRENT_TIMESTAMP(), INTERVAL 6 MINUTE), 'I');\n",
        "-- ... (More inserts up to around 50)\n",
        "\n",
        "-- Updates for existing IDs\n",
        "INSERT INTO my_cdc_dataset.staging_table (id, name, value, _metadata_timestamp, _event_timestamp, _op) VALUES ('1', 'Product A Updated', '12.00', TIMESTAMP_SUB(CURRENT_TIMESTAMP(), INTERVAL 5 MINUTE), TIMESTAMP_SUB(CURRENT_TIMESTAMP(), INTERVAL 5 MINUTE), 'U');\n",
        "INSERT INTO my_cdc_dataset.staging_table (id, name, value, _metadata_timestamp, _event_timestamp, _op) VALUES ('3', 'Product C Updated', '35.00', TIMESTAMP_SUB(CURRENT_TIMESTAMP(), INTERVAL 4 MINUTE), TIMESTAMP_SUB(CURRENT_TIMESTAMP(), INTERVAL 4 MINUTE), 'U');\n",
        "INSERT INTO my_cdc_dataset.staging_table (id, name, value, _metadata_timestamp, _event_timestamp, _op) VALUES ('5', 'Product E Updated', '55.00', TIMESTAMP_SUB(CURRENT_TIMESTAMP(), INTERVAL 3 MINUTE), TIMESTAMP_SUB(CURRENT_TIMESTAMP(), INTERVAL 3 MINUTE), 'U');\n",
        "INSERT INTO my_cdc_dataset.staging_table (id, name, value, _metadata_timestamp, _event_timestamp, _op) VALUES ('2', 'Product B v2', '22.00', TIMESTAMP_SUB(CURRENT_TIMESTAMP(), INTERVAL 2 MINUTE), TIMESTAMP_SUB(CURRENT_TIMESTAMP(), INTERVAL 2 MINUTE), 'U');\n",
        "INSERT INTO my_cdc_dataset.staging_table (id, name, value, _metadata_timestamp, _event_timestamp, _op) VALUES ('4', 'Product D v2', '42.00', TIMESTAMP_SUB(CURRENT_TIMESTAMP(), INTERVAL 1 MINUTE), TIMESTAMP_SUB(CURRENT_TIMESTAMP(), INTERVAL 1 MINUTE), 'U');\n",
        "\n",
        "-- ... (More updates for various IDs)\n",
        "\n",
        "-- Deletes for existing IDs\n",
        "INSERT INTO my_cdc_dataset.staging_table (id, name, value, _metadata_timestamp, _event_timestamp, _op) VALUES ('2', NULL, NULL, TIMESTAMP_SUB(CURRENT_TIMESTAMP(), INTERVAL 0 MINUTE), TIMESTAMP_SUB(CURRENT_TIMESTAMP(), INTERVAL 0 MINUTE), 'D');  -- Delete Product B\n",
        "INSERT INTO my_cdc_dataset.staging_table (id, name, value, _metadata_timestamp, _event_timestamp, _op) VALUES ('4', NULL, NULL, TIMESTAMP_SUB(CURRENT_TIMESTAMP(), INTERVAL 0 MINUTE), TIMESTAMP_SUB(CURRENT_TIMESTAMP(), INTERVAL 0 MINUTE), 'D');  -- Delete Product D\n",
        "-- ... (More deletes)\n",
        "\n",
        "-- More Inserts to show how the merge handles new data after deletes\n",
        "INSERT INTO my_cdc_dataset.staging_table (id, name, value, _metadata_timestamp, _event_timestamp, _op) VALUES ('6', 'Product F', '60.00', TIMESTAMP_SUB(CURRENT_TIMESTAMP(), INTERVAL 0 MINUTE), TIMESTAMP_SUB(CURRENT_TIMESTAMP(), INTERVAL 0 MINUTE), 'I');\n",
        "INSERT INTO my_cdc_dataset.staging_table (id, name, value, _metadata_timestamp, _event_timestamp, _op) VALUES ('2', 'Product B - Reborn', '25.00', TIMESTAMP_SUB(CURRENT_TIMESTAMP(), INTERVAL 0 MINUTE), TIMESTAMP_SUB(CURRENT_TIMESTAMP(), INTERVAL 0 MINUTE), 'I'); -- Product B re-inserted\n",
        "INSERT INTO my_cdc_dataset.staging_table (id, name, value, _metadata_timestamp, _event_timestamp, _op) VALUES ('4', 'Product D - Reborn', '45.00', TIMESTAMP_SUB(CURRENT_TIMESTAMP(), INTERVAL 0 MINUTE), TIMESTAMP_SUB(CURRENT_TIMESTAMP(), INTERVAL 0 MINUTE), 'I'); -- Product D re-inserted\n",
        "\n",
        "INSERT INTO my_cdc_dataset.staging_table (id, name, value, _metadata_timestamp, _event_timestamp, _op) VALUES ('6', NULL, NULL, TIMESTAMP_SUB(CURRENT_TIMESTAMP(), INTERVAL 0 MINUTE), TIMESTAMP_SUB(CURRENT_TIMESTAMP(), INTERVAL 0 MINUTE), 'D');  -- Delete Product D\n",
        "\n",
        "-- ... (Fill up to 100 statements with a mix of inserts, updates, and deletes)"
      ],
      "metadata": {
        "id": "WiAm88ZTdeYQ"
      },
      "execution_count": null,
      "outputs": []
    },
    {
      "cell_type": "markdown",
      "source": [
        "**[Option #1] Create the Latest Version View**: This view shows only the latest record for each id based on the event_timestamp."
      ],
      "metadata": {
        "id": "QZkHWi82eXhK"
      }
    },
    {
      "cell_type": "code",
      "source": [
        "%%bigquery\n",
        "CREATE OR REPLACE VIEW my_cdc_dataset.latest_records AS\n",
        "SELECT *\n",
        "FROM my_cdc_dataset.staging_table\n",
        "WHERE _event_timestamp = (\n",
        "    SELECT MAX(_event_timestamp)\n",
        "    FROM my_cdc_dataset.staging_table AS t2\n",
        "    WHERE t2.id = staging_table.id\n",
        ")\n",
        "AND _op NOT IN ('D')\n",
        ";"
      ],
      "metadata": {
        "id": "aYK7NYnjeX5-"
      },
      "execution_count": null,
      "outputs": []
    },
    {
      "cell_type": "code",
      "source": [
        "%%bigquery\n",
        "SELECT * FROM my_cdc_dataset.latest_records;"
      ],
      "metadata": {
        "id": "vPmrPX-Se8zq"
      },
      "execution_count": null,
      "outputs": []
    },
    {
      "cell_type": "markdown",
      "source": [
        "**[Option 2] Scheduled Merge Job**: You can schedule a merge job using BigQuery scheduler.  This example uses a scheduled query."
      ],
      "metadata": {
        "id": "_KCCFiUTgwah"
      }
    },
    {
      "cell_type": "code",
      "source": [
        "%%bigquery\n",
        "MERGE my_cdc_dataset.curated_table AS target\n",
        "USING (\n",
        "    SELECT id, name, value, _event_timestamp, _op\n",
        "    FROM my_cdc_dataset.staging_table\n",
        "    WHERE _event_timestamp >= TIMESTAMP_SUB(CURRENT_TIMESTAMP(), INTERVAL 24 HOUR) -- Process only recent changes from last 24 hours\n",
        "    QUALIFY ROW_NUMBER() OVER (PARTITION BY id ORDER BY _event_timestamp DESC) = 1 -- Get latest record for each ID\n",
        ") AS source\n",
        "ON target.id = source.id  -- Still join on ID for matching\n",
        "WHEN MATCHED AND source._op = 'U' AND source._event_timestamp > target.event_timestamp THEN UPDATE SET target.name = source.name, target.value = source.value, target.event_timestamp = source._event_timestamp -- Only update if source timestamp is newer\n",
        "WHEN MATCHED AND source._op = 'D' AND source._event_timestamp > target.event_timestamp THEN DELETE -- Only delete if source timestamp is newer\n",
        "WHEN NOT MATCHED AND source._op IN ('I','U') THEN INSERT (id, name, value, event_timestamp) VALUES (source.id, source.name, source.value, source._event_timestamp); -- INSERT UNMATCHED INSERT AND UPDATE RECORDS, IGNORE UNMATCHED DELETES"
      ],
      "metadata": {
        "id": "7upTQwUygwlB"
      },
      "execution_count": null,
      "outputs": []
    },
    {
      "cell_type": "code",
      "source": [
        "%%bigquery\n",
        "SELECT * FROM my_cdc_dataset.curated_table;"
      ],
      "metadata": {
        "id": "0jMTVU42jJ8m"
      },
      "execution_count": null,
      "outputs": []
    }
  ]
}